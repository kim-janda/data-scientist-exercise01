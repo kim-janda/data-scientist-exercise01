{
 "cells": [
  {
   "cell_type": "markdown",
   "id": "73fc5037",
   "metadata": {},
   "source": [
    "# Model Development"
   ]
  },
  {
   "cell_type": "code",
   "execution_count": 10,
   "id": "e920a098",
   "metadata": {},
   "outputs": [],
   "source": [
    "#set up needed library imports\n",
    "import numpy as np\n",
    "import pandas as pd\n",
    "import matplotlib.pyplot as plt\n",
    "\n",
    "from sklearn.impute import SimpleImputer\n",
    "from sklearn.model_selection import train_test_split\n",
    "\n",
    "#model libraries\n",
    "from sklearn.linear_model import LogisticRegression\n",
    "from sklearn.neighbors import KNeighborsClassifier\n",
    "from sklearn.svm import LinearSVC\n",
    "from sklearn.tree import DecisionTreeClassifier\n",
    "from sklearn.ensemble import AdaBoostClassifier, RandomForestClassifier\n",
    "\n",
    "#read in the csv data created in 00_LoadData.py\n",
    "# set the ? as NA values\n",
    "df = pd.read_csv(\"fullrecords.csv\", na_values = \"?\")"
   ]
  },
  {
   "cell_type": "code",
   "execution_count": 2,
   "id": "14714585",
   "metadata": {},
   "outputs": [
    {
     "data": {
      "text/plain": [
       "Index(['id', 'age', 'education_num', 'capital_gain', 'capital_loss',\n",
       "       'hours_week', 'over_50k', 'workclass', 'educlevel', 'maritalstatus',\n",
       "       'occup', 'race', 'sex', 'country'],\n",
       "      dtype='object')"
      ]
     },
     "execution_count": 2,
     "metadata": {},
     "output_type": "execute_result"
    }
   ],
   "source": [
    "# drop the id columns that were used to join with the other tables\n",
    "df.drop(['workclass_id','education_level_id','marital_status_id','occupation_id',\n",
    "         'relationship_id','race_id','sex_id','country_id'], axis = 1, inplace = True)\n",
    "\n",
    "df.columns"
   ]
  },
  {
   "cell_type": "markdown",
   "id": "c3aae02f",
   "metadata": {},
   "source": [
    "### Recodes/Imputation"
   ]
  },
  {
   "cell_type": "code",
   "execution_count": 3,
   "id": "ae4c426b",
   "metadata": {},
   "outputs": [
    {
     "data": {
      "text/plain": [
       "id               0\n",
       "age              0\n",
       "education_num    0\n",
       "capital_gain     0\n",
       "capital_loss     0\n",
       "hours_week       0\n",
       "over_50k         0\n",
       "workclass        0\n",
       "educlevel        0\n",
       "maritalstatus    0\n",
       "occup            0\n",
       "race             0\n",
       "sex              0\n",
       "country          0\n",
       "dtype: int64"
      ]
     },
     "execution_count": 3,
     "metadata": {},
     "output_type": "execute_result"
    }
   ],
   "source": [
    "#based on the results of EDA we will need to impute the missing values and will go with the most frequent strategy\n",
    "imp = SimpleImputer(missing_values = np.nan, strategy='most_frequent')\n",
    "\n",
    "imp_df = pd.DataFrame(imp.fit_transform(df), columns = df.columns, index = df.index)\n",
    "\n",
    "# check missing values after imputation\n",
    "imp_df.isnull().sum()"
   ]
  },
  {
   "cell_type": "code",
   "execution_count": 4,
   "id": "6779a65b",
   "metadata": {},
   "outputs": [
    {
     "data": {
      "text/plain": [
       "priv     36705\n",
       "gov       6549\n",
       "self      5557\n",
       "nopay       21\n",
       "never       10\n",
       "Name: col_work, dtype: int64"
      ]
     },
     "metadata": {},
     "output_type": "display_data"
    },
    {
     "data": {
      "text/plain": [
       "hs          15784\n",
       "somecoll    14540\n",
       "bach         8025\n",
       "lths         6408\n",
       "grad         4085\n",
       "Name: col_educ, dtype: int64"
      ]
     },
     "metadata": {},
     "output_type": "display_data"
    },
    {
     "data": {
      "text/plain": [
       "married        23044\n",
       "single         16117\n",
       "Div_sep_wid     9681\n",
       "Name: col_mar, dtype: int64"
      ]
     },
     "metadata": {},
     "output_type": "display_data"
    }
   ],
   "source": [
    "#implement some collapsing of educlevel, marital status, and workclass\n",
    "#set up the new mappings\n",
    "work = {\n",
    "    'State-gov' : 'gov', 'Federal-gov' : 'gov', 'Local-gov' : 'gov',\n",
    "    'Self-emp-not-inc' : 'self', 'Self-emp-inc' : 'self',\n",
    "    'Private' : 'priv',\n",
    "    'Without-pay' : 'nopay',\n",
    "    'Never-worked' : 'never'\n",
    "}\n",
    "educ = {\n",
    "    'Bachelors' : 'bach',\n",
    "    'HS-grad': 'hs',\n",
    "    '11th' : 'lths', '9th' : 'lths', '7th-8th': 'lths','5th-6th':'lths','10th':'lths','1st-4th':'lths','Preschool':'lths','12th':'lths',\n",
    "    'Masters' : 'grad', 'Doctorate':'grad','Prof-school':'grad',\n",
    "    'Some-college':'somecoll', 'Assoc-acdm':'somecoll','Assoc-voc':'somecoll'\n",
    "    \n",
    "}\n",
    "mar = {\n",
    "    'Never-married': 'single',\n",
    "    'Married-civ-spouse': 'married', 'Married-spouse-absent':'married','Married-AF-spouse':'married',\n",
    "    'Divorced': 'Div_sep_wid', 'Separated':'Div_sep_wid','Widowed':'Div_sep_wid'\n",
    "}\n",
    "\n",
    "#apply the mappings\n",
    "imp_df['col_work'] = imp_df['workclass'].replace(work)\n",
    "imp_df['col_educ'] = imp_df['educlevel'].replace(educ)\n",
    "imp_df['col_mar'] = imp_df['maritalstatus'].replace(mar)\n",
    "\n",
    "#check collapsings\n",
    "collist = ['col_work','col_educ','col_mar']\n",
    "for c in collist:\n",
    "    display(imp_df[c].value_counts())"
   ]
  },
  {
   "cell_type": "code",
   "execution_count": 5,
   "id": "f244be69",
   "metadata": {},
   "outputs": [
    {
     "data": {
      "text/plain": [
       "Index(['id', 'age', 'education_num', 'capital_gain', 'capital_loss',\n",
       "       'hours_week', 'over_50k', 'workclass', 'educlevel', 'maritalstatus',\n",
       "       'country', 'col_educ', 'occup_Adm-clerical', 'occup_Armed-Forces',\n",
       "       'occup_Craft-repair', 'occup_Exec-managerial', 'occup_Farming-fishing',\n",
       "       'occup_Handlers-cleaners', 'occup_Machine-op-inspct',\n",
       "       'occup_Other-service', 'occup_Priv-house-serv', 'occup_Prof-specialty',\n",
       "       'occup_Protective-serv', 'occup_Sales', 'occup_Tech-support',\n",
       "       'occup_Transport-moving', 'race_Amer-Indian-Eskimo',\n",
       "       'race_Asian-Pac-Islander', 'race_Black', 'race_Other', 'race_White',\n",
       "       'sex_Female', 'sex_Male', 'col_work_gov', 'col_work_never',\n",
       "       'col_work_nopay', 'col_work_priv', 'col_work_self',\n",
       "       'col_mar_Div_sep_wid', 'col_mar_married', 'col_mar_single'],\n",
       "      dtype='object')"
      ]
     },
     "execution_count": 5,
     "metadata": {},
     "output_type": "execute_result"
    }
   ],
   "source": [
    "#Now create dummy variables for all of our categorical version\n",
    "fin_df = pd.get_dummies(imp_df, columns = ['occup','race','sex','col_work','col_mar'])\n",
    "\n",
    "fin_df.columns"
   ]
  },
  {
   "cell_type": "markdown",
   "id": "c8a74824",
   "metadata": {},
   "source": [
    "### Create train/validation/test split (70/20/10) "
   ]
  },
  {
   "cell_type": "code",
   "execution_count": 6,
   "id": "dd9e81ea",
   "metadata": {},
   "outputs": [],
   "source": [
    "#split the target and predictor variables into X and Y\n",
    "# drop 'capital_gain','capital_loss', and 'country' based on EDA work\n",
    "# keep `education_num` and drop other education variables given how closely they are related\n",
    "X = fin_df[['age', 'education_num', \n",
    "       'hours_week', 'occup_Adm-clerical', 'occup_Armed-Forces',\n",
    "       'occup_Craft-repair', 'occup_Exec-managerial', 'occup_Farming-fishing',\n",
    "       'occup_Handlers-cleaners', 'occup_Machine-op-inspct',\n",
    "       'occup_Other-service', 'occup_Priv-house-serv', 'occup_Prof-specialty',\n",
    "       'occup_Protective-serv', 'occup_Sales', 'occup_Tech-support',\n",
    "       'occup_Transport-moving', 'race_Amer-Indian-Eskimo',\n",
    "       'race_Asian-Pac-Islander', 'race_Black', 'race_Other', 'race_White',\n",
    "       'sex_Female', 'sex_Male', 'col_work_gov', 'col_work_never',\n",
    "       'col_work_nopay', 'col_work_priv', 'col_work_self',\n",
    "       'col_mar_Div_sep_wid', 'col_mar_married', 'col_mar_single']]\n",
    "y = fin_df[['over_50k']]\n",
    "\n",
    "# First split off 10 percent for the train data and 90 for test\n",
    "X_train, X_test, y_train, y_test = train_test_split(X, y, test_size=0.1, random_state=1)\n",
    "\n",
    "#further split the test data to be 80 train and 20 validation\n",
    "X_train, X_val, y_train, y_val = train_test_split(X_train, y_train, test_size=(.2/.9), random_state=1) # 0.25 x 0.8 = 0.2"
   ]
  },
  {
   "cell_type": "code",
   "execution_count": 7,
   "id": "c19c55b4",
   "metadata": {},
   "outputs": [
    {
     "name": "stdout",
     "output_type": "stream",
     "text": [
      "Train size:  (34188, 32)\n",
      "Val. size:  (9769, 32)\n",
      "Test size:  (4885, 32)\n"
     ]
    }
   ],
   "source": [
    "print('Train size: ', X_train.shape)\n",
    "print('Val. size: ', X_val.shape)\n",
    "print('Test size: ', X_test.shape)"
   ]
  },
  {
   "cell_type": "markdown",
   "id": "ffc6e2ed",
   "metadata": {},
   "source": [
    "### Model Development"
   ]
  },
  {
   "cell_type": "code",
   "execution_count": 8,
   "id": "8dadffba",
   "metadata": {},
   "outputs": [
    {
     "name": "stderr",
     "output_type": "stream",
     "text": [
      "/Users/kimberlyjanda/Documents/data-scientist-exercise01/venv/lib/python3.7/site-packages/sklearn/utils/validation.py:993: DataConversionWarning: A column-vector y was passed when a 1d array was expected. Please change the shape of y to (n_samples, ), for example using ravel().\n",
      "  y = column_or_1d(y, warn=True)\n",
      "/Users/kimberlyjanda/Documents/data-scientist-exercise01/venv/lib/python3.7/site-packages/sklearn/linear_model/_logistic.py:818: ConvergenceWarning: lbfgs failed to converge (status=1):\n",
      "STOP: TOTAL NO. of ITERATIONS REACHED LIMIT.\n",
      "\n",
      "Increase the number of iterations (max_iter) or scale the data as shown in:\n",
      "    https://scikit-learn.org/stable/modules/preprocessing.html\n",
      "Please also refer to the documentation for alternative solver options:\n",
      "    https://scikit-learn.org/stable/modules/linear_model.html#logistic-regression\n",
      "  extra_warning_msg=_LOGISTIC_SOLVER_CONVERGENCE_MSG,\n",
      "/Users/kimberlyjanda/Documents/data-scientist-exercise01/venv/lib/python3.7/site-packages/sklearn/neighbors/_classification.py:198: DataConversionWarning: A column-vector y was passed when a 1d array was expected. Please change the shape of y to (n_samples,), for example using ravel().\n",
      "  return self._fit(X, y)\n"
     ]
    },
    {
     "name": "stdout",
     "output_type": "stream",
     "text": [
      "lr: Train - 0.826460; Validation - 0.834476\n",
      "knn: Train - 0.862145; Validation - 0.806531\n"
     ]
    },
    {
     "name": "stderr",
     "output_type": "stream",
     "text": [
      "/Users/kimberlyjanda/Documents/data-scientist-exercise01/venv/lib/python3.7/site-packages/sklearn/utils/validation.py:993: DataConversionWarning: A column-vector y was passed when a 1d array was expected. Please change the shape of y to (n_samples, ), for example using ravel().\n",
      "  y = column_or_1d(y, warn=True)\n",
      "/Users/kimberlyjanda/Documents/data-scientist-exercise01/venv/lib/python3.7/site-packages/sklearn/svm/_base.py:1208: ConvergenceWarning: Liblinear failed to converge, increase the number of iterations.\n",
      "  ConvergenceWarning,\n"
     ]
    },
    {
     "name": "stdout",
     "output_type": "stream",
     "text": [
      "svm: Train - 0.759506; Validation - 0.763026\n",
      "clf: Train - 0.957236; Validation - 0.788822\n"
     ]
    },
    {
     "name": "stderr",
     "output_type": "stream",
     "text": [
      "/Users/kimberlyjanda/Documents/data-scientist-exercise01/venv/lib/python3.7/site-packages/sklearn/utils/validation.py:993: DataConversionWarning: A column-vector y was passed when a 1d array was expected. Please change the shape of y to (n_samples, ), for example using ravel().\n",
      "  y = column_or_1d(y, warn=True)\n"
     ]
    },
    {
     "name": "stdout",
     "output_type": "stream",
     "text": [
      "abd: Train - 0.831929; Validation - 0.838980\n"
     ]
    },
    {
     "name": "stderr",
     "output_type": "stream",
     "text": [
      "/Users/kimberlyjanda/Documents/data-scientist-exercise01/venv/lib/python3.7/site-packages/ipykernel_launcher.py:28: DataConversionWarning: A column-vector y was passed when a 1d array was expected. Please change the shape of y to (n_samples,), for example using ravel().\n"
     ]
    },
    {
     "name": "stdout",
     "output_type": "stream",
     "text": [
      "rf: Train - 0.957236; Validation - 0.810318\n"
     ]
    }
   ],
   "source": [
    "# We will try the following model types: Logistic Regression, KNeighbors, LinearSVC, DecisionTreeClassifier, \n",
    "# AdaBoost, and RandomForest\n",
    "\n",
    "# set up models with defaults\n",
    "models = []\n",
    "models.append(('lr', LogisticRegression()))\n",
    "models.append(('knn', KNeighborsClassifier()))\n",
    "models.append(('svm', LinearSVC()))\n",
    "models.append(('clf',  DecisionTreeClassifier()))\n",
    "models.append(('abd', AdaBoostClassifier()))\n",
    "models.append(('rf', RandomForestClassifier()))\n",
    "\n",
    "#convert to arrays and make sure target is the right data type\n",
    "X_train = X_train.values\n",
    "y_train = y_train.values\n",
    "y_train = y_train.astype('int')\n",
    "\n",
    "X_val = X_val.values\n",
    "y_val = y_val.values\n",
    "y_val = y_val.astype('int')\n",
    "\n",
    "# set up way to save the results\n",
    "results_train = []\n",
    "results_val = []\n",
    "names = []\n",
    "#iterate through model types fitting the models and collecting scores\n",
    "for name, model in models:\n",
    "    model.fit(X_train, y_train)\n",
    "    names.append(name)\n",
    "    results_train.append(model.score(X_train, y_train))\n",
    "    results_val.append(model.score(X_val, y_val))\n",
    "    msg = \"%s: Train - %f; Validation - %f\" % (name, model.score(X_train, y_train), model.score(X_val, y_val))\n",
    "    print(msg)"
   ]
  },
  {
   "cell_type": "markdown",
   "id": "cec936b0",
   "metadata": {},
   "source": [
    "The Decision tree and random forest classifier both overfit the train set, which can be see from the difference between the train and test scores.  The knn classifier also suffers from overfitting. Between the remaining three models both the AdaBoost classifier and logistic regression outperformed the LinearSVC. The results across the two was close but we'll go forward with the logistic regression since it is a simpler model and the coefficients could provide important insights."
   ]
  },
  {
   "cell_type": "markdown",
   "id": "7b9ab508",
   "metadata": {},
   "source": [
    "## Score on the test data"
   ]
  },
  {
   "cell_type": "code",
   "execution_count": 17,
   "id": "997d2a56",
   "metadata": {},
   "outputs": [
    {
     "name": "stderr",
     "output_type": "stream",
     "text": [
      "/Users/kimberlyjanda/Documents/data-scientist-exercise01/venv/lib/python3.7/site-packages/sklearn/utils/validation.py:993: DataConversionWarning: A column-vector y was passed when a 1d array was expected. Please change the shape of y to (n_samples, ), for example using ravel().\n",
      "  y = column_or_1d(y, warn=True)\n"
     ]
    },
    {
     "name": "stdout",
     "output_type": "stream",
     "text": [
      "Test score:  0.8294779938587513\n"
     ]
    },
    {
     "name": "stderr",
     "output_type": "stream",
     "text": [
      "/Users/kimberlyjanda/Documents/data-scientist-exercise01/venv/lib/python3.7/site-packages/sklearn/linear_model/_logistic.py:818: ConvergenceWarning: lbfgs failed to converge (status=1):\n",
      "STOP: TOTAL NO. of ITERATIONS REACHED LIMIT.\n",
      "\n",
      "Increase the number of iterations (max_iter) or scale the data as shown in:\n",
      "    https://scikit-learn.org/stable/modules/preprocessing.html\n",
      "Please also refer to the documentation for alternative solver options:\n",
      "    https://scikit-learn.org/stable/modules/linear_model.html#logistic-regression\n",
      "  extra_warning_msg=_LOGISTIC_SOLVER_CONVERGENCE_MSG,\n"
     ]
    }
   ],
   "source": [
    "# convert to arrays\n",
    "X_test = X_test.values\n",
    "y_test = y_test.values\n",
    "y_test = y_test.astype('int')\n",
    "\n",
    "lr = LogisticRegression()\n",
    "lr.fit(X_train, y_train)\n",
    "\n",
    "print(\"Test score: \", lr.score(X_test,y_test))"
   ]
  },
  {
   "cell_type": "code",
   "execution_count": 22,
   "id": "b979fbc0",
   "metadata": {},
   "outputs": [
    {
     "data": {
      "text/html": [
       "<div>\n",
       "<style scoped>\n",
       "    .dataframe tbody tr th:only-of-type {\n",
       "        vertical-align: middle;\n",
       "    }\n",
       "\n",
       "    .dataframe tbody tr th {\n",
       "        vertical-align: top;\n",
       "    }\n",
       "\n",
       "    .dataframe thead th {\n",
       "        text-align: right;\n",
       "    }\n",
       "</style>\n",
       "<table border=\"1\" class=\"dataframe\">\n",
       "  <thead>\n",
       "    <tr style=\"text-align: right;\">\n",
       "      <th></th>\n",
       "      <th>0</th>\n",
       "      <th>Coefs</th>\n",
       "    </tr>\n",
       "  </thead>\n",
       "  <tbody>\n",
       "    <tr>\n",
       "      <th>0</th>\n",
       "      <td>age</td>\n",
       "      <td>0.026768</td>\n",
       "    </tr>\n",
       "    <tr>\n",
       "      <th>1</th>\n",
       "      <td>education_num</td>\n",
       "      <td>0.321589</td>\n",
       "    </tr>\n",
       "    <tr>\n",
       "      <th>2</th>\n",
       "      <td>hours_week</td>\n",
       "      <td>0.031274</td>\n",
       "    </tr>\n",
       "    <tr>\n",
       "      <th>3</th>\n",
       "      <td>occup_Adm-clerical</td>\n",
       "      <td>-0.140689</td>\n",
       "    </tr>\n",
       "    <tr>\n",
       "      <th>4</th>\n",
       "      <td>occup_Armed-Forces</td>\n",
       "      <td>0.004667</td>\n",
       "    </tr>\n",
       "    <tr>\n",
       "      <th>5</th>\n",
       "      <td>occup_Craft-repair</td>\n",
       "      <td>-0.142995</td>\n",
       "    </tr>\n",
       "    <tr>\n",
       "      <th>6</th>\n",
       "      <td>occup_Exec-managerial</td>\n",
       "      <td>0.577172</td>\n",
       "    </tr>\n",
       "    <tr>\n",
       "      <th>7</th>\n",
       "      <td>occup_Farming-fishing</td>\n",
       "      <td>-1.119693</td>\n",
       "    </tr>\n",
       "    <tr>\n",
       "      <th>8</th>\n",
       "      <td>occup_Handlers-cleaners</td>\n",
       "      <td>-0.849150</td>\n",
       "    </tr>\n",
       "    <tr>\n",
       "      <th>9</th>\n",
       "      <td>occup_Machine-op-inspct</td>\n",
       "      <td>-0.611708</td>\n",
       "    </tr>\n",
       "    <tr>\n",
       "      <th>10</th>\n",
       "      <td>occup_Other-service</td>\n",
       "      <td>-1.174989</td>\n",
       "    </tr>\n",
       "    <tr>\n",
       "      <th>11</th>\n",
       "      <td>occup_Priv-house-serv</td>\n",
       "      <td>-0.134688</td>\n",
       "    </tr>\n",
       "    <tr>\n",
       "      <th>12</th>\n",
       "      <td>occup_Prof-specialty</td>\n",
       "      <td>0.048668</td>\n",
       "    </tr>\n",
       "    <tr>\n",
       "      <th>13</th>\n",
       "      <td>occup_Protective-serv</td>\n",
       "      <td>0.121869</td>\n",
       "    </tr>\n",
       "    <tr>\n",
       "      <th>14</th>\n",
       "      <td>occup_Sales</td>\n",
       "      <td>0.035439</td>\n",
       "    </tr>\n",
       "    <tr>\n",
       "      <th>15</th>\n",
       "      <td>occup_Tech-support</td>\n",
       "      <td>0.391615</td>\n",
       "    </tr>\n",
       "    <tr>\n",
       "      <th>16</th>\n",
       "      <td>occup_Transport-moving</td>\n",
       "      <td>-0.238597</td>\n",
       "    </tr>\n",
       "    <tr>\n",
       "      <th>17</th>\n",
       "      <td>race_Amer-Indian-Eskimo</td>\n",
       "      <td>-0.495590</td>\n",
       "    </tr>\n",
       "    <tr>\n",
       "      <th>18</th>\n",
       "      <td>race_Asian-Pac-Islander</td>\n",
       "      <td>-0.843152</td>\n",
       "    </tr>\n",
       "    <tr>\n",
       "      <th>19</th>\n",
       "      <td>race_Black</td>\n",
       "      <td>-0.868442</td>\n",
       "    </tr>\n",
       "    <tr>\n",
       "      <th>20</th>\n",
       "      <td>race_Other</td>\n",
       "      <td>-0.412562</td>\n",
       "    </tr>\n",
       "    <tr>\n",
       "      <th>21</th>\n",
       "      <td>race_White</td>\n",
       "      <td>-0.613333</td>\n",
       "    </tr>\n",
       "    <tr>\n",
       "      <th>22</th>\n",
       "      <td>sex_Female</td>\n",
       "      <td>-1.717861</td>\n",
       "    </tr>\n",
       "    <tr>\n",
       "      <th>23</th>\n",
       "      <td>sex_Male</td>\n",
       "      <td>-1.515218</td>\n",
       "    </tr>\n",
       "    <tr>\n",
       "      <th>24</th>\n",
       "      <td>col_work_gov</td>\n",
       "      <td>-0.957042</td>\n",
       "    </tr>\n",
       "    <tr>\n",
       "      <th>25</th>\n",
       "      <td>col_work_never</td>\n",
       "      <td>-0.020659</td>\n",
       "    </tr>\n",
       "    <tr>\n",
       "      <th>26</th>\n",
       "      <td>col_work_nopay</td>\n",
       "      <td>-0.053111</td>\n",
       "    </tr>\n",
       "    <tr>\n",
       "      <th>27</th>\n",
       "      <td>col_work_priv</td>\n",
       "      <td>-1.005050</td>\n",
       "    </tr>\n",
       "    <tr>\n",
       "      <th>28</th>\n",
       "      <td>col_work_self</td>\n",
       "      <td>-1.197217</td>\n",
       "    </tr>\n",
       "    <tr>\n",
       "      <th>29</th>\n",
       "      <td>col_mar_Div_sep_wid</td>\n",
       "      <td>-1.623893</td>\n",
       "    </tr>\n",
       "    <tr>\n",
       "      <th>30</th>\n",
       "      <td>col_mar_married</td>\n",
       "      <td>0.419518</td>\n",
       "    </tr>\n",
       "    <tr>\n",
       "      <th>31</th>\n",
       "      <td>col_mar_single</td>\n",
       "      <td>-2.028705</td>\n",
       "    </tr>\n",
       "  </tbody>\n",
       "</table>\n",
       "</div>"
      ],
      "text/plain": [
       "                          0     Coefs\n",
       "0                       age  0.026768\n",
       "1             education_num  0.321589\n",
       "2                hours_week  0.031274\n",
       "3        occup_Adm-clerical -0.140689\n",
       "4        occup_Armed-Forces  0.004667\n",
       "5        occup_Craft-repair -0.142995\n",
       "6     occup_Exec-managerial  0.577172\n",
       "7     occup_Farming-fishing -1.119693\n",
       "8   occup_Handlers-cleaners -0.849150\n",
       "9   occup_Machine-op-inspct -0.611708\n",
       "10      occup_Other-service -1.174989\n",
       "11    occup_Priv-house-serv -0.134688\n",
       "12     occup_Prof-specialty  0.048668\n",
       "13    occup_Protective-serv  0.121869\n",
       "14              occup_Sales  0.035439\n",
       "15       occup_Tech-support  0.391615\n",
       "16   occup_Transport-moving -0.238597\n",
       "17  race_Amer-Indian-Eskimo -0.495590\n",
       "18  race_Asian-Pac-Islander -0.843152\n",
       "19               race_Black -0.868442\n",
       "20               race_Other -0.412562\n",
       "21               race_White -0.613333\n",
       "22               sex_Female -1.717861\n",
       "23                 sex_Male -1.515218\n",
       "24             col_work_gov -0.957042\n",
       "25           col_work_never -0.020659\n",
       "26           col_work_nopay -0.053111\n",
       "27            col_work_priv -1.005050\n",
       "28            col_work_self -1.197217\n",
       "29      col_mar_Div_sep_wid -1.623893\n",
       "30          col_mar_married  0.419518\n",
       "31           col_mar_single -2.028705"
      ]
     },
     "execution_count": 22,
     "metadata": {},
     "output_type": "execute_result"
    }
   ],
   "source": [
    "# also print the coefficients for write-up\n",
    "coef_table = pd.DataFrame(list(X.columns)).copy()\n",
    "coef_table.insert(len(coef_table.columns),\"Coefs\",lr.coef_.transpose())\n",
    "coef_table"
   ]
  },
  {
   "cell_type": "code",
   "execution_count": null,
   "id": "c9191be9",
   "metadata": {},
   "outputs": [],
   "source": []
  }
 ],
 "metadata": {
  "kernelspec": {
   "display_name": "Python 3 (ipykernel)",
   "language": "python",
   "name": "python3"
  },
  "language_info": {
   "codemirror_mode": {
    "name": "ipython",
    "version": 3
   },
   "file_extension": ".py",
   "mimetype": "text/x-python",
   "name": "python",
   "nbconvert_exporter": "python",
   "pygments_lexer": "ipython3",
   "version": "3.7.4"
  }
 },
 "nbformat": 4,
 "nbformat_minor": 5
}
